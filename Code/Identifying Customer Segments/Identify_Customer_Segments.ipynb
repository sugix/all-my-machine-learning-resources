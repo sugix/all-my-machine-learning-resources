{
 "cells": [
  {
   "cell_type": "markdown",
   "metadata": {},
   "source": [
    "# Project: Identify Customer Segments\n",
    "\n",
    "In this project, you will apply unsupervised learning techniques to identify segments of the population that form the core customer base for a mail-order sales company in Germany. These segments can then be used to direct marketing campaigns towards audiences that will have the highest expected rate of returns. The data that you will use has been provided by our partners at Bertelsmann Arvato Analytics, and represents a real-life data science task.\n",
    "\n",
    "This notebook will help you complete this task by providing a framework within which you will perform your analysis steps. In each step of the project, you will see some text describing the subtask that you will perform, followed by one or more code cells for you to complete your work. **Feel free to add additional code and markdown cells as you go along so that you can explore everything in precise chunks.** The code cells provided in the base template will outline only the major tasks, and will usually not be enough to cover all of the minor tasks that comprise it.\n",
    "\n",
    "It should be noted that while there will be precise guidelines on how you should handle certain tasks in the project, there will also be places where an exact specification is not provided. **There will be times in the project where you will need to make and justify your own decisions on how to treat the data.** These are places where there may not be only one way to handle the data. In real-life tasks, there may be many valid ways to approach an analysis task. One of the most important things you can do is clearly document your approach so that other scientists can understand the decisions you've made.\n",
    "\n",
    "At the end of most sections, there will be a Markdown cell labeled **Discussion**. In these cells, you will report your findings for the completed section, as well as document the decisions that you made in your approach to each subtask. **Your project will be evaluated not just on the code used to complete the tasks outlined, but also your communication about your observations and conclusions at each stage.**"
   ]
  },
  {
   "cell_type": "code",
   "execution_count": 1,
   "metadata": {},
   "outputs": [
    {
     "data": {
      "text/plain": [
       "'\\nImport note: The classroom currently uses sklearn version 0.19.\\nIf you need to use an imputer, it is available in sklearn.preprocessing.Imputer,\\ninstead of sklearn.impute as in newer versions of sklearn.\\n'"
      ]
     },
     "execution_count": 1,
     "metadata": {},
     "output_type": "execute_result"
    }
   ],
   "source": [
    "# import libraries here; add more as necessary\n",
    "import numpy as np\n",
    "import pandas as pd\n",
    "import matplotlib.pyplot as plt\n",
    "import seaborn as sns\n",
    "\n",
    "# magic word for producing visualizations in notebook\n",
    "%matplotlib inline\n",
    "\n",
    "'''\n",
    "Import note: The classroom currently uses sklearn version 0.19.\n",
    "If you need to use an imputer, it is available in sklearn.preprocessing.Imputer,\n",
    "instead of sklearn.impute as in newer versions of sklearn.\n",
    "'''"
   ]
  },
  {
   "cell_type": "markdown",
   "metadata": {},
   "source": [
    "### Step 0: Load the Data\n",
    "\n",
    "There are four files associated with this project (not including this one):\n",
    "\n",
    "- `Udacity_AZDIAS_Subset.csv`: Demographics data for the general population of Germany; 891211 persons (rows) x 85 features (columns).\n",
    "- `Udacity_CUSTOMERS_Subset.csv`: Demographics data for customers of a mail-order company; 191652 persons (rows) x 85 features (columns).\n",
    "- `Data_Dictionary.md`: Detailed information file about the features in the provided datasets.\n",
    "- `AZDIAS_Feature_Summary.csv`: Summary of feature attributes for demographics data; 85 features (rows) x 4 columns\n",
    "\n",
    "Each row of the demographics files represents a single person, but also includes information outside of individuals, including information about their household, building, and neighborhood. You will use this information to cluster the general population into groups with similar demographic properties. Then, you will see how the people in the customers dataset fit into those created clusters. The hope here is that certain clusters are over-represented in the customers data, as compared to the general population; those over-represented clusters will be assumed to be part of the core userbase. This information can then be used for further applications, such as targeting for a marketing campaign.\n",
    "\n",
    "To start off with, load in the demographics data for the general population into a pandas DataFrame, and do the same for the feature attributes summary. Note for all of the `.csv` data files in this project: they're semicolon (`;`) delimited, so you'll need an additional argument in your [`read_csv()`](https://pandas.pydata.org/pandas-docs/stable/generated/pandas.read_csv.html) call to read in the data properly. Also, considering the size of the main dataset, it may take some time for it to load completely.\n",
    "\n",
    "Once the dataset is loaded, it's recommended that you take a little bit of time just browsing the general structure of the dataset and feature summary file. You'll be getting deep into the innards of the cleaning in the first major step of the project, so gaining some general familiarity can help you get your bearings."
   ]
  },
  {
   "cell_type": "code",
   "execution_count": 2,
   "metadata": {},
   "outputs": [],
   "source": [
    "# Load in the general demographics data.\n",
    "azdias = pd.read_csv('Udacity_AZDIAS_Subset.csv', sep=\";\")\n",
    "\n",
    "# Load in the feature summary file.\n",
    "feat_info = pd.read_csv('AZDIAS_Feature_Summary.csv', sep = \";\")"
   ]
  },
  {
   "cell_type": "code",
   "execution_count": 3,
   "metadata": {},
   "outputs": [
    {
     "data": {
      "text/html": [
       "<div>\n",
       "<style scoped>\n",
       "    .dataframe tbody tr th:only-of-type {\n",
       "        vertical-align: middle;\n",
       "    }\n",
       "\n",
       "    .dataframe tbody tr th {\n",
       "        vertical-align: top;\n",
       "    }\n",
       "\n",
       "    .dataframe thead th {\n",
       "        text-align: right;\n",
       "    }\n",
       "</style>\n",
       "<table border=\"1\" class=\"dataframe\">\n",
       "  <thead>\n",
       "    <tr style=\"text-align: right;\">\n",
       "      <th></th>\n",
       "      <th>AGER_TYP</th>\n",
       "      <th>ALTERSKATEGORIE_GROB</th>\n",
       "      <th>ANREDE_KZ</th>\n",
       "      <th>CJT_GESAMTTYP</th>\n",
       "      <th>FINANZ_MINIMALIST</th>\n",
       "      <th>FINANZ_SPARER</th>\n",
       "      <th>FINANZ_VORSORGER</th>\n",
       "      <th>FINANZ_ANLEGER</th>\n",
       "      <th>FINANZ_UNAUFFAELLIGER</th>\n",
       "      <th>FINANZ_HAUSBAUER</th>\n",
       "      <th>...</th>\n",
       "      <th>PLZ8_ANTG1</th>\n",
       "      <th>PLZ8_ANTG2</th>\n",
       "      <th>PLZ8_ANTG3</th>\n",
       "      <th>PLZ8_ANTG4</th>\n",
       "      <th>PLZ8_BAUMAX</th>\n",
       "      <th>PLZ8_HHZ</th>\n",
       "      <th>PLZ8_GBZ</th>\n",
       "      <th>ARBEIT</th>\n",
       "      <th>ORTSGR_KLS9</th>\n",
       "      <th>RELAT_AB</th>\n",
       "    </tr>\n",
       "  </thead>\n",
       "  <tbody>\n",
       "    <tr>\n",
       "      <th>0</th>\n",
       "      <td>-1</td>\n",
       "      <td>2</td>\n",
       "      <td>1</td>\n",
       "      <td>2.0</td>\n",
       "      <td>3</td>\n",
       "      <td>4</td>\n",
       "      <td>3</td>\n",
       "      <td>5</td>\n",
       "      <td>5</td>\n",
       "      <td>3</td>\n",
       "      <td>...</td>\n",
       "      <td>NaN</td>\n",
       "      <td>NaN</td>\n",
       "      <td>NaN</td>\n",
       "      <td>NaN</td>\n",
       "      <td>NaN</td>\n",
       "      <td>NaN</td>\n",
       "      <td>NaN</td>\n",
       "      <td>NaN</td>\n",
       "      <td>NaN</td>\n",
       "      <td>NaN</td>\n",
       "    </tr>\n",
       "    <tr>\n",
       "      <th>1</th>\n",
       "      <td>-1</td>\n",
       "      <td>1</td>\n",
       "      <td>2</td>\n",
       "      <td>5.0</td>\n",
       "      <td>1</td>\n",
       "      <td>5</td>\n",
       "      <td>2</td>\n",
       "      <td>5</td>\n",
       "      <td>4</td>\n",
       "      <td>5</td>\n",
       "      <td>...</td>\n",
       "      <td>2.0</td>\n",
       "      <td>3.0</td>\n",
       "      <td>2.0</td>\n",
       "      <td>1.0</td>\n",
       "      <td>1.0</td>\n",
       "      <td>5.0</td>\n",
       "      <td>4.0</td>\n",
       "      <td>3.0</td>\n",
       "      <td>5.0</td>\n",
       "      <td>4.0</td>\n",
       "    </tr>\n",
       "    <tr>\n",
       "      <th>2</th>\n",
       "      <td>-1</td>\n",
       "      <td>3</td>\n",
       "      <td>2</td>\n",
       "      <td>3.0</td>\n",
       "      <td>1</td>\n",
       "      <td>4</td>\n",
       "      <td>1</td>\n",
       "      <td>2</td>\n",
       "      <td>3</td>\n",
       "      <td>5</td>\n",
       "      <td>...</td>\n",
       "      <td>3.0</td>\n",
       "      <td>3.0</td>\n",
       "      <td>1.0</td>\n",
       "      <td>0.0</td>\n",
       "      <td>1.0</td>\n",
       "      <td>4.0</td>\n",
       "      <td>4.0</td>\n",
       "      <td>3.0</td>\n",
       "      <td>5.0</td>\n",
       "      <td>2.0</td>\n",
       "    </tr>\n",
       "    <tr>\n",
       "      <th>3</th>\n",
       "      <td>2</td>\n",
       "      <td>4</td>\n",
       "      <td>2</td>\n",
       "      <td>2.0</td>\n",
       "      <td>4</td>\n",
       "      <td>2</td>\n",
       "      <td>5</td>\n",
       "      <td>2</td>\n",
       "      <td>1</td>\n",
       "      <td>2</td>\n",
       "      <td>...</td>\n",
       "      <td>2.0</td>\n",
       "      <td>2.0</td>\n",
       "      <td>2.0</td>\n",
       "      <td>0.0</td>\n",
       "      <td>1.0</td>\n",
       "      <td>3.0</td>\n",
       "      <td>4.0</td>\n",
       "      <td>2.0</td>\n",
       "      <td>3.0</td>\n",
       "      <td>3.0</td>\n",
       "    </tr>\n",
       "    <tr>\n",
       "      <th>4</th>\n",
       "      <td>-1</td>\n",
       "      <td>3</td>\n",
       "      <td>1</td>\n",
       "      <td>5.0</td>\n",
       "      <td>4</td>\n",
       "      <td>3</td>\n",
       "      <td>4</td>\n",
       "      <td>1</td>\n",
       "      <td>3</td>\n",
       "      <td>2</td>\n",
       "      <td>...</td>\n",
       "      <td>2.0</td>\n",
       "      <td>4.0</td>\n",
       "      <td>2.0</td>\n",
       "      <td>1.0</td>\n",
       "      <td>2.0</td>\n",
       "      <td>3.0</td>\n",
       "      <td>3.0</td>\n",
       "      <td>4.0</td>\n",
       "      <td>6.0</td>\n",
       "      <td>5.0</td>\n",
       "    </tr>\n",
       "  </tbody>\n",
       "</table>\n",
       "<p>5 rows × 85 columns</p>\n",
       "</div>"
      ],
      "text/plain": [
       "   AGER_TYP  ALTERSKATEGORIE_GROB  ANREDE_KZ  CJT_GESAMTTYP  \\\n",
       "0        -1                     2          1            2.0   \n",
       "1        -1                     1          2            5.0   \n",
       "2        -1                     3          2            3.0   \n",
       "3         2                     4          2            2.0   \n",
       "4        -1                     3          1            5.0   \n",
       "\n",
       "   FINANZ_MINIMALIST  FINANZ_SPARER  FINANZ_VORSORGER  FINANZ_ANLEGER  \\\n",
       "0                  3              4                 3               5   \n",
       "1                  1              5                 2               5   \n",
       "2                  1              4                 1               2   \n",
       "3                  4              2                 5               2   \n",
       "4                  4              3                 4               1   \n",
       "\n",
       "   FINANZ_UNAUFFAELLIGER  FINANZ_HAUSBAUER    ...     PLZ8_ANTG1  PLZ8_ANTG2  \\\n",
       "0                      5                 3    ...            NaN         NaN   \n",
       "1                      4                 5    ...            2.0         3.0   \n",
       "2                      3                 5    ...            3.0         3.0   \n",
       "3                      1                 2    ...            2.0         2.0   \n",
       "4                      3                 2    ...            2.0         4.0   \n",
       "\n",
       "   PLZ8_ANTG3  PLZ8_ANTG4  PLZ8_BAUMAX  PLZ8_HHZ  PLZ8_GBZ  ARBEIT  \\\n",
       "0         NaN         NaN          NaN       NaN       NaN     NaN   \n",
       "1         2.0         1.0          1.0       5.0       4.0     3.0   \n",
       "2         1.0         0.0          1.0       4.0       4.0     3.0   \n",
       "3         2.0         0.0          1.0       3.0       4.0     2.0   \n",
       "4         2.0         1.0          2.0       3.0       3.0     4.0   \n",
       "\n",
       "   ORTSGR_KLS9  RELAT_AB  \n",
       "0          NaN       NaN  \n",
       "1          5.0       4.0  \n",
       "2          5.0       2.0  \n",
       "3          3.0       3.0  \n",
       "4          6.0       5.0  \n",
       "\n",
       "[5 rows x 85 columns]"
      ]
     },
     "execution_count": 3,
     "metadata": {},
     "output_type": "execute_result"
    }
   ],
   "source": [
    "# Check the structure of the data after it's loaded (e.g. print the number of\n",
    "# rows and columns, print the first few rows).\n",
    "azdias.shape\n",
    "azdias.head()\n"
   ]
  },
  {
   "cell_type": "code",
   "execution_count": 4,
   "metadata": {},
   "outputs": [
    {
     "name": "stdout",
     "output_type": "stream",
     "text": [
      "<class 'pandas.core.frame.DataFrame'>\n",
      "RangeIndex: 891221 entries, 0 to 891220\n",
      "Data columns (total 85 columns):\n",
      "AGER_TYP                 891221 non-null int64\n",
      "ALTERSKATEGORIE_GROB     891221 non-null int64\n",
      "ANREDE_KZ                891221 non-null int64\n",
      "CJT_GESAMTTYP            886367 non-null float64\n",
      "FINANZ_MINIMALIST        891221 non-null int64\n",
      "FINANZ_SPARER            891221 non-null int64\n",
      "FINANZ_VORSORGER         891221 non-null int64\n",
      "FINANZ_ANLEGER           891221 non-null int64\n",
      "FINANZ_UNAUFFAELLIGER    891221 non-null int64\n",
      "FINANZ_HAUSBAUER         891221 non-null int64\n",
      "FINANZTYP                891221 non-null int64\n",
      "GEBURTSJAHR              891221 non-null int64\n",
      "GFK_URLAUBERTYP          886367 non-null float64\n",
      "GREEN_AVANTGARDE         891221 non-null int64\n",
      "HEALTH_TYP               891221 non-null int64\n",
      "LP_LEBENSPHASE_FEIN      886367 non-null float64\n",
      "LP_LEBENSPHASE_GROB      886367 non-null float64\n",
      "LP_FAMILIE_FEIN          886367 non-null float64\n",
      "LP_FAMILIE_GROB          886367 non-null float64\n",
      "LP_STATUS_FEIN           886367 non-null float64\n",
      "LP_STATUS_GROB           886367 non-null float64\n",
      "NATIONALITAET_KZ         891221 non-null int64\n",
      "PRAEGENDE_JUGENDJAHRE    891221 non-null int64\n",
      "RETOURTYP_BK_S           886367 non-null float64\n",
      "SEMIO_SOZ                891221 non-null int64\n",
      "SEMIO_FAM                891221 non-null int64\n",
      "SEMIO_REL                891221 non-null int64\n",
      "SEMIO_MAT                891221 non-null int64\n",
      "SEMIO_VERT               891221 non-null int64\n",
      "SEMIO_LUST               891221 non-null int64\n",
      "SEMIO_ERL                891221 non-null int64\n",
      "SEMIO_KULT               891221 non-null int64\n",
      "SEMIO_RAT                891221 non-null int64\n",
      "SEMIO_KRIT               891221 non-null int64\n",
      "SEMIO_DOM                891221 non-null int64\n",
      "SEMIO_KAEM               891221 non-null int64\n",
      "SEMIO_PFLICHT            891221 non-null int64\n",
      "SEMIO_TRADV              891221 non-null int64\n",
      "SHOPPER_TYP              891221 non-null int64\n",
      "SOHO_KZ                  817722 non-null float64\n",
      "TITEL_KZ                 817722 non-null float64\n",
      "VERS_TYP                 891221 non-null int64\n",
      "ZABEOTYP                 891221 non-null int64\n",
      "ALTER_HH                 817722 non-null float64\n",
      "ANZ_PERSONEN             817722 non-null float64\n",
      "ANZ_TITEL                817722 non-null float64\n",
      "HH_EINKOMMEN_SCORE       872873 non-null float64\n",
      "KK_KUNDENTYP             306609 non-null float64\n",
      "W_KEIT_KIND_HH           783619 non-null float64\n",
      "WOHNDAUER_2008           817722 non-null float64\n",
      "ANZ_HAUSHALTE_AKTIV      798073 non-null float64\n",
      "ANZ_HH_TITEL             794213 non-null float64\n",
      "GEBAEUDETYP              798073 non-null float64\n",
      "KONSUMNAEHE              817252 non-null float64\n",
      "MIN_GEBAEUDEJAHR         798073 non-null float64\n",
      "OST_WEST_KZ              798073 non-null object\n",
      "WOHNLAGE                 798073 non-null float64\n",
      "CAMEO_DEUG_2015          792242 non-null object\n",
      "CAMEO_DEU_2015           792242 non-null object\n",
      "CAMEO_INTL_2015          792242 non-null object\n",
      "KBA05_ANTG1              757897 non-null float64\n",
      "KBA05_ANTG2              757897 non-null float64\n",
      "KBA05_ANTG3              757897 non-null float64\n",
      "KBA05_ANTG4              757897 non-null float64\n",
      "KBA05_BAUMAX             757897 non-null float64\n",
      "KBA05_GBZ                757897 non-null float64\n",
      "BALLRAUM                 797481 non-null float64\n",
      "EWDICHTE                 797481 non-null float64\n",
      "INNENSTADT               797481 non-null float64\n",
      "GEBAEUDETYP_RASTER       798066 non-null float64\n",
      "KKK                      770025 non-null float64\n",
      "MOBI_REGIO               757897 non-null float64\n",
      "ONLINE_AFFINITAET        886367 non-null float64\n",
      "REGIOTYP                 770025 non-null float64\n",
      "KBA13_ANZAHL_PKW         785421 non-null float64\n",
      "PLZ8_ANTG1               774706 non-null float64\n",
      "PLZ8_ANTG2               774706 non-null float64\n",
      "PLZ8_ANTG3               774706 non-null float64\n",
      "PLZ8_ANTG4               774706 non-null float64\n",
      "PLZ8_BAUMAX              774706 non-null float64\n",
      "PLZ8_HHZ                 774706 non-null float64\n",
      "PLZ8_GBZ                 774706 non-null float64\n",
      "ARBEIT                   794005 non-null float64\n",
      "ORTSGR_KLS9              794005 non-null float64\n",
      "RELAT_AB                 794005 non-null float64\n",
      "dtypes: float64(49), int64(32), object(4)\n",
      "memory usage: 578.0+ MB\n"
     ]
    }
   ],
   "source": [
    "azdias.info()"
   ]
  },
  {
   "cell_type": "code",
   "execution_count": 5,
   "metadata": {},
   "outputs": [
    {
     "data": {
      "text/html": [
       "<div>\n",
       "<style scoped>\n",
       "    .dataframe tbody tr th:only-of-type {\n",
       "        vertical-align: middle;\n",
       "    }\n",
       "\n",
       "    .dataframe tbody tr th {\n",
       "        vertical-align: top;\n",
       "    }\n",
       "\n",
       "    .dataframe thead th {\n",
       "        text-align: right;\n",
       "    }\n",
       "</style>\n",
       "<table border=\"1\" class=\"dataframe\">\n",
       "  <thead>\n",
       "    <tr style=\"text-align: right;\">\n",
       "      <th></th>\n",
       "      <th>attribute</th>\n",
       "      <th>information_level</th>\n",
       "      <th>type</th>\n",
       "      <th>missing_or_unknown</th>\n",
       "    </tr>\n",
       "  </thead>\n",
       "  <tbody>\n",
       "    <tr>\n",
       "      <th>0</th>\n",
       "      <td>AGER_TYP</td>\n",
       "      <td>person</td>\n",
       "      <td>categorical</td>\n",
       "      <td>[-1,0]</td>\n",
       "    </tr>\n",
       "    <tr>\n",
       "      <th>1</th>\n",
       "      <td>ALTERSKATEGORIE_GROB</td>\n",
       "      <td>person</td>\n",
       "      <td>ordinal</td>\n",
       "      <td>[-1,0,9]</td>\n",
       "    </tr>\n",
       "    <tr>\n",
       "      <th>2</th>\n",
       "      <td>ANREDE_KZ</td>\n",
       "      <td>person</td>\n",
       "      <td>categorical</td>\n",
       "      <td>[-1,0]</td>\n",
       "    </tr>\n",
       "    <tr>\n",
       "      <th>3</th>\n",
       "      <td>CJT_GESAMTTYP</td>\n",
       "      <td>person</td>\n",
       "      <td>categorical</td>\n",
       "      <td>[0]</td>\n",
       "    </tr>\n",
       "    <tr>\n",
       "      <th>4</th>\n",
       "      <td>FINANZ_MINIMALIST</td>\n",
       "      <td>person</td>\n",
       "      <td>ordinal</td>\n",
       "      <td>[-1]</td>\n",
       "    </tr>\n",
       "  </tbody>\n",
       "</table>\n",
       "</div>"
      ],
      "text/plain": [
       "              attribute information_level         type missing_or_unknown\n",
       "0              AGER_TYP            person  categorical             [-1,0]\n",
       "1  ALTERSKATEGORIE_GROB            person      ordinal           [-1,0,9]\n",
       "2             ANREDE_KZ            person  categorical             [-1,0]\n",
       "3         CJT_GESAMTTYP            person  categorical                [0]\n",
       "4     FINANZ_MINIMALIST            person      ordinal               [-1]"
      ]
     },
     "execution_count": 5,
     "metadata": {},
     "output_type": "execute_result"
    }
   ],
   "source": [
    "feat_info.head()"
   ]
  },
  {
   "cell_type": "code",
   "execution_count": 6,
   "metadata": {},
   "outputs": [
    {
     "name": "stdout",
     "output_type": "stream",
     "text": [
      "<class 'pandas.core.frame.DataFrame'>\n",
      "RangeIndex: 85 entries, 0 to 84\n",
      "Data columns (total 4 columns):\n",
      "attribute             85 non-null object\n",
      "information_level     85 non-null object\n",
      "type                  85 non-null object\n",
      "missing_or_unknown    85 non-null object\n",
      "dtypes: object(4)\n",
      "memory usage: 2.7+ KB\n"
     ]
    }
   ],
   "source": [
    "feat_info.info()"
   ]
  },
  {
   "cell_type": "markdown",
   "metadata": {},
   "source": [
    "> **Tip**: Add additional cells to keep everything in reasonably-sized chunks! Keyboard shortcut `esc --> a` (press escape to enter command mode, then press the 'A' key) adds a new cell before the active cell, and `esc --> b` adds a new cell after the active cell. If you need to convert an active cell to a markdown cell, use `esc --> m` and to convert to a code cell, use `esc --> y`. \n",
    "\n",
    "## Step 1: Preprocessing\n",
    "\n",
    "### Step 1.1: Assess Missing Data\n",
    "\n",
    "The feature summary file contains a summary of properties for each demographics data column. You will use this file to help you make cleaning decisions during this stage of the project. First of all, you should assess the demographics data in terms of missing data. Pay attention to the following points as you perform your analysis, and take notes on what you observe. Make sure that you fill in the **Discussion** cell with your findings and decisions at the end of each step that has one!\n",
    "\n",
    "#### Step 1.1.1: Convert Missing Value Codes to NaNs\n",
    "The fourth column of the feature attributes summary (loaded in above as `feat_info`) documents the codes from the data dictionary that indicate missing or unknown data. While the file encodes this as a list (e.g. `[-1,0]`), this will get read in as a string object. You'll need to do a little bit of parsing to make use of it to identify and clean the data. Convert data that matches a 'missing' or 'unknown' value code into a numpy NaN value. You might want to see how much data takes on a 'missing' or 'unknown' code, and how much data is naturally missing, as a point of interest.\n",
    "\n",
    "**As one more reminder, you are encouraged to add additional cells to break up your analysis into manageable chunks.**"
   ]
  },
  {
   "cell_type": "code",
   "execution_count": 7,
   "metadata": {},
   "outputs": [
    {
     "data": {
      "text/plain": [
       "4896838"
      ]
     },
     "execution_count": 7,
     "metadata": {},
     "output_type": "execute_result"
    }
   ],
   "source": [
    "# Before nan count\n",
    "azdias.isna().sum().sum()"
   ]
  },
  {
   "cell_type": "code",
   "execution_count": 8,
   "metadata": {},
   "outputs": [],
   "source": [
    "# Identify missing or unknown data values and convert them to NaNs.\n",
    "for attribute, missing in zip(feat_info['attribute'], feat_info['missing_or_unknown']):\n",
    "    missing = missing.strip('[]').split(',')\n",
    "    \n",
    "    missing = [int(value) if (value!='X' and value!='XX' and value!='') else value for value in missing]\n",
    "    \n",
    "    if missing != ['']:\n",
    "        azdias[attribute] = azdias[attribute].replace(missing, np.nan)"
   ]
  },
  {
   "cell_type": "code",
   "execution_count": 9,
   "metadata": {},
   "outputs": [
    {
     "data": {
      "text/plain": [
       "8373929"
      ]
     },
     "execution_count": 9,
     "metadata": {},
     "output_type": "execute_result"
    }
   ],
   "source": [
    "azdias.isna().sum().sum()"
   ]
  },
  {
   "cell_type": "markdown",
   "metadata": {},
   "source": [
    "#### Step 1.1.2: Assess Missing Data in Each Column\n",
    "\n",
    "How much missing data is present in each column? There are a few columns that are outliers in terms of the proportion of values that are missing. You will want to use matplotlib's [`hist()`](https://matplotlib.org/api/_as_gen/matplotlib.pyplot.hist.html) function to visualize the distribution of missing value counts to find these columns. Identify and document these columns. While some of these columns might have justifications for keeping or re-encoding the data, for this project you should just remove them from the dataframe. (Feel free to make remarks about these outlier columns in the discussion, however!)\n",
    "\n",
    "For the remaining features, are there any patterns in which columns have, or share, missing data?"
   ]
  },
  {
   "cell_type": "code",
   "execution_count": 10,
   "metadata": {},
   "outputs": [
    {
     "data": {
      "text/plain": [
       "AGER_TYP                 685843\n",
       "ALTERSKATEGORIE_GROB       2881\n",
       "ANREDE_KZ                     0\n",
       "CJT_GESAMTTYP              4854\n",
       "FINANZ_MINIMALIST             0\n",
       "FINANZ_SPARER                 0\n",
       "FINANZ_VORSORGER              0\n",
       "FINANZ_ANLEGER                0\n",
       "FINANZ_UNAUFFAELLIGER         0\n",
       "FINANZ_HAUSBAUER              0\n",
       "FINANZTYP                     0\n",
       "GEBURTSJAHR              392318\n",
       "GFK_URLAUBERTYP            4854\n",
       "GREEN_AVANTGARDE              0\n",
       "HEALTH_TYP               111196\n",
       "LP_LEBENSPHASE_FEIN       97632\n",
       "LP_LEBENSPHASE_GROB       94572\n",
       "LP_FAMILIE_FEIN           77792\n",
       "LP_FAMILIE_GROB           77792\n",
       "LP_STATUS_FEIN             4854\n",
       "LP_STATUS_GROB             4854\n",
       "NATIONALITAET_KZ         108315\n",
       "PRAEGENDE_JUGENDJAHRE    108164\n",
       "RETOURTYP_BK_S             4854\n",
       "SEMIO_SOZ                     0\n",
       "SEMIO_FAM                     0\n",
       "SEMIO_REL                     0\n",
       "SEMIO_MAT                     0\n",
       "SEMIO_VERT                    0\n",
       "SEMIO_LUST                    0\n",
       "                          ...  \n",
       "OST_WEST_KZ               93148\n",
       "WOHNLAGE                  93148\n",
       "CAMEO_DEUG_2015           99352\n",
       "CAMEO_DEU_2015            99352\n",
       "CAMEO_INTL_2015           99352\n",
       "KBA05_ANTG1              133324\n",
       "KBA05_ANTG2              133324\n",
       "KBA05_ANTG3              133324\n",
       "KBA05_ANTG4              133324\n",
       "KBA05_BAUMAX             476524\n",
       "KBA05_GBZ                133324\n",
       "BALLRAUM                  93740\n",
       "EWDICHTE                  93740\n",
       "INNENSTADT                93740\n",
       "GEBAEUDETYP_RASTER        93155\n",
       "KKK                      158064\n",
       "MOBI_REGIO               133324\n",
       "ONLINE_AFFINITAET          4854\n",
       "REGIOTYP                 158064\n",
       "KBA13_ANZAHL_PKW         105800\n",
       "PLZ8_ANTG1               116515\n",
       "PLZ8_ANTG2               116515\n",
       "PLZ8_ANTG3               116515\n",
       "PLZ8_ANTG4               116515\n",
       "PLZ8_BAUMAX              116515\n",
       "PLZ8_HHZ                 116515\n",
       "PLZ8_GBZ                 116515\n",
       "ARBEIT                    97375\n",
       "ORTSGR_KLS9               97274\n",
       "RELAT_AB                  97375\n",
       "Length: 85, dtype: int64"
      ]
     },
     "execution_count": 10,
     "metadata": {},
     "output_type": "execute_result"
    }
   ],
   "source": [
    "# Perform an assessment of how much missing data there is in each column of the\n",
    "# dataset.\n",
    "\n",
    "missing_data = azdias.isna().sum()\n",
    "missing_data"
   ]
  },
  {
   "cell_type": "code",
   "execution_count": 11,
   "metadata": {},
   "outputs": [
    {
     "data": {
      "image/png": "[encoded data removed]",
      "text/plain": [
       "<matplotlib.figure.Figure at 0x7f5b16d33320>"
      ]
     },
     "metadata": {
      "needs_background": "light"
     },
     "output_type": "display_data"
    }
   ],
   "source": [
    "# Investigate patterns in the amount of missing data in each column.\n",
    "\n",
    "plt.hist(missing_data)\n",
    "plt.title('Distribution of Missing Data per Column')\n",
    "plt.xlabel('Number of missing values')\n",
    "plt.ylabel('Number of columns');"
   ]
  },
  {
   "cell_type": "code",
   "execution_count": 12,
   "metadata": {},
   "outputs": [],
   "source": [
    "# Remove the outlier columns from the dataset. (You'll perform other data\n",
    "# engineering tasks such as re-encoding and imputation later.)\n",
    "\n",
    "percent_missing_per_column = (azdias.isnull().sum()/len(azdias))*100\n",
    "percent_missing_per_column_20 = percent_missing_per_column[percent_missing_per_column > 20]\n",
    "azdias.drop(percent_missing_per_column_20.index, axis=1, inplace=True)\n",
    "feat_info_cleaned = feat_info[~feat_info.attribute.isin(percent_missing_per_column_20.index)]"
   ]
  },
  {
   "cell_type": "code",
   "execution_count": 13,
   "metadata": {},
   "outputs": [
    {
     "data": {
      "text/plain": [
       "AGER_TYP        685843\n",
       "GEBURTSJAHR     392318\n",
       "TITEL_KZ        889061\n",
       "ALTER_HH        310267\n",
       "KK_KUNDENTYP    584612\n",
       "KBA05_BAUMAX    476524\n",
       "dtype: int64"
      ]
     },
     "execution_count": 13,
     "metadata": {},
     "output_type": "execute_result"
    }
   ],
   "source": [
    "high_null_cols = missing_data[missing_data > 200000]\n",
    "high_null_cols"
   ]
  },
  {
   "cell_type": "markdown",
   "metadata": {},
   "source": [
    "#### Discussion 1.1.2: Assess Missing Data in Each Column\n",
    "\n",
    "\n",
    "- Some columns have nan values in the range of 0 - 20%, we have removed some columns which are from above\n",
    "\n",
    "- Columns removed \n",
    "    - AGER_TYP\n",
    "    - GEBURTSJAHR\n",
    "    - TITEL_KZ\n",
    "    - ALTER_HH\n",
    "    - KK_KUNDENTYP\n",
    "    - KBA05_BAUMAX"
   ]
  },
  {
   "cell_type": "markdown",
   "metadata": {},
   "source": [
    "#### Step 1.1.3: Assess Missing Data in Each Row\n",
    "\n",
    "Now, you'll perform a similar assessment for the rows of the dataset. How much data is missing in each row? As with the columns, you should see some groups of points that have a very different numbers of missing values. Divide the data into two subsets: one for data points that are above some threshold for missing values, and a second subset for points below that threshold.\n",
    "\n",
    "In order to know what to do with the outlier rows, we should see if the distribution of data values on columns that are not missing data (or are missing very little data) are similar or different between the two groups. Select at least five of these columns and compare the distribution of values.\n",
    "- You can use seaborn's [`countplot()`](https://seaborn.pydata.org/generated/seaborn.countplot.html) function to create a bar chart of code frequencies and matplotlib's [`subplot()`](https://matplotlib.org/api/_as_gen/matplotlib.pyplot.subplot.html) function to put bar charts for the two subplots side by side.\n",
    "- To reduce repeated code, you might want to write a function that can perform this comparison, taking as one of its arguments a column to be compared.\n",
    "\n",
    "Depending on what you observe in your comparison, this will have implications on how you approach your conclusions later in the analysis. If the distributions of non-missing features look similar between the data with many missing values and the data with few or no missing values, then we could argue that simply dropping those points from the analysis won't present a major issue. On the other hand, if the data with many missing values looks very different from the data with few or no missing values, then we should make a note on those data as special. We'll revisit these data later on. **Either way, you should continue your analysis for now using just the subset of the data with few or no missing values.**"
   ]
  },
  {
   "cell_type": "code",
   "execution_count": 14,
   "metadata": {},
   "outputs": [],
   "source": [
    "# How much data is missing in each row of the dataset?\n",
    "\n",
    "row_nulls = azdias.isnull().sum(axis=1)"
   ]
  },
  {
   "cell_type": "code",
   "execution_count": 15,
   "metadata": {},
   "outputs": [
    {
     "data": {
      "text/plain": [
       "(array([  6.97109000e+05,   7.76340000e+04,   1.28010000e+04,\n",
       "          9.53300000e+03,   8.29000000e+02,   1.55000000e+02,\n",
       "          1.40160000e+04,   5.03100000e+03,   2.80380000e+04,\n",
       "          4.60750000e+04]),\n",
       " array([  0. ,   4.9,   9.8,  14.7,  19.6,  24.5,  29.4,  34.3,  39.2,\n",
       "         44.1,  49. ]),\n",
       " <a list of 10 Patch objects>)"
      ]
     },
     "execution_count": 15,
     "metadata": {},
     "output_type": "execute_result"
    },
    {
     "data": {
      "image/png": "[encoded data removed]",
      "text/plain": [
       "<matplotlib.figure.Figure at 0x7f5b16d4feb8>"
      ]
     },
     "metadata": {
      "needs_background": "light"
     },
     "output_type": "display_data"
    }
   ],
   "source": [
    "sns.countplot(row_nulls)\n",
    "plt.hist(row_nulls)"
   ]
  },
  {
   "cell_type": "code",
   "execution_count": 16,
   "metadata": {},
   "outputs": [],
   "source": [
    "# Write code to divide the data into two subsets based on the number of missing\n",
    "# values in each row.\n",
    "\n",
    "threshold = 20\n",
    "subset_above_threshold = azdias[row_nulls > threshold]\n",
    "subset_below_threshold = azdias[row_nulls < threshold]"
   ]
  },
  {
   "cell_type": "code",
   "execution_count": 17,
   "metadata": {},
   "outputs": [
    {
     "data": {
      "image/png": "[encoded data removed]",
      "text/plain": [
       "<matplotlib.figure.Figure at 0x7f5b161bbba8>"
      ]
     },
     "metadata": {
      "needs_background": "light"
     },
     "output_type": "display_data"
    },
    {
     "data": {
      "image/png": "[encoded data removed]",
      "text/plain": [
       "<matplotlib.figure.Figure at 0x7f5b15de57b8>"
      ]
     },
     "metadata": {
      "needs_background": "light"
     },
     "output_type": "display_data"
    },
    {
     "data": {
      "image/png": "[encoded data removed]",
      "text/plain": [
       "<matplotlib.figure.Figure at 0x7f5b15d02240>"
      ]
     },
     "metadata": {
      "needs_background": "light"
     },
     "output_type": "display_data"
    },
    {
     "data": {
      "image/png": "[encoded data removed]",
      "text/plain": [
       "<matplotlib.figure.Figure at 0x7f5b15ca9588>"
      ]
     },
     "metadata": {
      "needs_background": "light"
     },
     "output_type": "display_data"
    },
    {
     "data": {
      "image/png": "[encoded data removed]",
      "text/plain": [
       "<matplotlib.figure.Figure at 0x7f5b15c7a908>"
      ]
     },
     "metadata": {
      "needs_background": "light"
     },
     "output_type": "display_data"
    }
   ],
   "source": [
    "# Compare the distribution of values for at least five columns where there are\n",
    "# no or few missing values, between the two subsets.\n",
    "\n",
    "def dist_miss_compare(column, subset_rows_above, subset_rows_below, threshold):\n",
    "    fig, (ax1, ax2) = plt.subplots(1, 2, sharey=True)\n",
    "    fig.set_figwidth(15)\n",
    "    ax1.set_title('Missing values above than {}'.format(threshold))\n",
    "    sns.countplot(subset_rows_above.loc[:,column] , ax=ax1)\n",
    "\n",
    "    ax2.set_title('Missing values below than {}'.format(threshold))\n",
    "    \n",
    "    sns.countplot(subset_rows_below.loc[:,column] , ax=ax2)\n",
    "    \n",
    "least_null_columns = list(azdias.isna().sum().sort_values().index[:5])\n",
    "\n",
    "for column in least_null_columns:\n",
    "    dist_miss_compare(column, subset_above_threshold, subset_below_threshold, threshold)"
   ]
  },
  {
   "cell_type": "markdown",
   "metadata": {},
   "source": [
    "#### Discussion 1.1.3: Assess Missing Data in Each Row\n",
    "\n",
    "Yes, data with lot of missing values are qualitatively different from the data with less missing values "
   ]
  },
  {
   "cell_type": "markdown",
   "metadata": {},
   "source": [
    "### Step 1.2: Select and Re-Encode Features\n",
    "\n",
    "Checking for missing data isn't the only way in which you can prepare a dataset for analysis. Since the unsupervised learning techniques to be used will only work on data that is encoded numerically, you need to make a few encoding changes or additional assumptions to be able to make progress. In addition, while almost all of the values in the dataset are encoded using numbers, not all of them represent numeric values. Check the third column of the feature summary (`feat_info`) for a summary of types of measurement.\n",
    "- For numeric and interval data, these features can be kept without changes.\n",
    "- Most of the variables in the dataset are ordinal in nature. While ordinal values may technically be non-linear in spacing, make the simplifying assumption that the ordinal variables can be treated as being interval in nature (that is, kept without any changes).\n",
    "- Special handling may be necessary for the remaining two variable types: categorical, and 'mixed'.\n",
    "\n",
    "In the first two parts of this sub-step, you will perform an investigation of the categorical and mixed-type features and make a decision on each of them, whether you will keep, drop, or re-encode each. Then, in the last part, you will create a new data frame with only the selected and engineered columns.\n",
    "\n",
    "Data wrangling is often the trickiest part of the data analysis process, and there's a lot of it to be done here. But stick with it: once you're done with this step, you'll be ready to get to the machine learning parts of the project!"
   ]
  },
  {
   "cell_type": "code",
   "execution_count": 18,
   "metadata": {},
   "outputs": [
    {
     "data": {
      "text/plain": [
       "ordinal        49\n",
       "categorical    18\n",
       "mixed           6\n",
       "numeric         6\n",
       "Name: type, dtype: int64"
      ]
     },
     "execution_count": 18,
     "metadata": {},
     "output_type": "execute_result"
    }
   ],
   "source": [
    "# How many features are there of each data type?\n",
    "\n",
    "feat_info_cleaned['type'].value_counts()"
   ]
  },
  {
   "cell_type": "markdown",
   "metadata": {},
   "source": [
    "#### Step 1.2.1: Re-Encode Categorical Features\n",
    "\n",
    "For categorical data, you would ordinarily need to encode the levels as dummy variables. Depending on the number of categories, perform one of the following:\n",
    "- For binary (two-level) categoricals that take numeric values, you can keep them without needing to do anything.\n",
    "- There is one binary variable that takes on non-numeric values. For this one, you need to re-encode the values as numbers or create a dummy variable.\n",
    "- For multi-level categoricals (three or more values), you can choose to encode the values using multiple dummy variables (e.g. via [OneHotEncoder](http://scikit-learn.org/stable/modules/generated/sklearn.preprocessing.OneHotEncoder.html)), or (to keep things straightforward) just drop them from the analysis. As always, document your choices in the Discussion section."
   ]
  },
  {
   "cell_type": "code",
   "execution_count": 19,
   "metadata": {},
   "outputs": [
    {
     "name": "stdout",
     "output_type": "stream",
     "text": [
      "Numeric binary features:\n",
      " ['ANREDE_KZ', 'GREEN_AVANTGARDE', 'SOHO_KZ', 'VERS_TYP']\n",
      "\n",
      "Non-numeric binary features:\n",
      " ['OST_WEST_KZ']\n",
      "\n",
      "Multi-level features:\n",
      " ['CJT_GESAMTTYP', 'FINANZTYP', 'GFK_URLAUBERTYP', 'LP_FAMILIE_FEIN', 'LP_FAMILIE_GROB', 'LP_STATUS_FEIN', 'LP_STATUS_GROB', 'NATIONALITAET_KZ', 'SHOPPER_TYP', 'ZABEOTYP', 'GEBAEUDETYP', 'CAMEO_DEUG_2015', 'CAMEO_DEU_2015']\n",
      "\n",
      "\n",
      " ANREDE_KZ            2\n",
      "CJT_GESAMTTYP        6\n",
      "FINANZTYP            6\n",
      "GFK_URLAUBERTYP     12\n",
      "GREEN_AVANTGARDE     2\n",
      "LP_FAMILIE_FEIN     11\n",
      "LP_FAMILIE_GROB      5\n",
      "LP_STATUS_FEIN      10\n",
      "LP_STATUS_GROB       5\n",
      "NATIONALITAET_KZ     3\n",
      "SHOPPER_TYP          4\n",
      "SOHO_KZ              2\n",
      "VERS_TYP             2\n",
      "ZABEOTYP             6\n",
      "GEBAEUDETYP          7\n",
      "OST_WEST_KZ          2\n",
      "CAMEO_DEUG_2015      9\n",
      "CAMEO_DEU_2015      44\n",
      "dtype: int64\n"
     ]
    }
   ],
   "source": [
    "# Assess categorical variables: which are binary, which are multi-level, and\n",
    "# which one needs to be re-encoded?\n",
    "\n",
    "categorical_features = feat_info_cleaned[feat_info_cleaned.type == 'categorical'].attribute\n",
    "cat_level = subset_below_threshold[categorical_features].nunique()\n",
    "\n",
    "binary_cat_num = []\n",
    "binary_cat_nonnum = []\n",
    "multi_cat = []\n",
    "for num_cat, attribute in zip(cat_level, categorical_features):\n",
    "    if num_cat != 2:\n",
    "        multi_cat.append(attribute)\n",
    "    else:\n",
    "        date_type = subset_below_threshold[attribute].dtype\n",
    "        if np.issubdtype(date_type, np.number):\n",
    "            binary_cat_num.append(attribute)\n",
    "        else:\n",
    "            binary_cat_nonnum.append(attribute)\n",
    "\n",
    "print('Numeric binary features:\\n', binary_cat_num)\n",
    "print('\\nNon-numeric binary features:\\n', binary_cat_nonnum)\n",
    "print('\\nMulti-level features:\\n', multi_cat)\n",
    "print('\\n\\n', cat_level)"
   ]
  },
  {
   "cell_type": "code",
   "execution_count": 20,
   "metadata": {},
   "outputs": [
    {
     "name": "stderr",
     "output_type": "stream",
     "text": [
      "/opt/conda/lib/python3.6/site-packages/pandas/core/frame.py:3697: SettingWithCopyWarning: \n",
      "A value is trying to be set on a copy of a slice from a DataFrame\n",
      "\n",
      "See the caveats in the documentation: http://pandas.pydata.org/pandas-docs/stable/indexing.html#indexing-view-versus-copy\n",
      "  errors=errors)\n"
     ]
    }
   ],
   "source": [
    "# Drop features that has more than 20 distinct values\n",
    "drop_features = cat_level[cat_level > 20].index\n",
    "subset_below_threshold.drop(drop_features, axis=1, inplace=True)\n",
    "\n",
    "for feature in drop_features:\n",
    "    multi_cat.remove(feature)"
   ]
  },
  {
   "cell_type": "code",
   "execution_count": 21,
   "metadata": {},
   "outputs": [
    {
     "name": "stderr",
     "output_type": "stream",
     "text": [
      "/opt/conda/lib/python3.6/site-packages/pandas/core/generic.py:5890: SettingWithCopyWarning: \n",
      "A value is trying to be set on a copy of a slice from a DataFrame\n",
      "\n",
      "See the caveats in the documentation: http://pandas.pydata.org/pandas-docs/stable/indexing.html#indexing-view-versus-copy\n",
      "  self._update_inplace(new_data)\n"
     ]
    }
   ],
   "source": [
    "# Re-encode categorical variable(s) to be kept in the analysis.\n",
    "\n",
    "# 1) Re-encode Non-numeric binary varibles\n",
    "subset_below_threshold['OST_WEST_KZ'].replace({'W':0,'O':1}, inplace=True)\n",
    "subset_below_threshold['OST_WEST_KZ'].astype('int', inplace=True)\n",
    "\n",
    "# 2) Re-encode multi-level categorical varibles\n",
    "subset_below_threshold = pd.get_dummies(data=subset_below_threshold, columns=multi_cat)"
   ]
  },
  {
   "cell_type": "markdown",
   "metadata": {},
   "source": [
    "#### Discussion 1.2.1: Re-Encode Categorical Features\n",
    "\n",
    "- Most of the categorical features are multi-level\n",
    "- We have 5 binary features and one is non-numeric\n",
    "\n",
    "- All numeric binary categorical features are retained. \n",
    "- Re-encoded the non-numeric binary categorical features by replacing the category 'W' with 0 and the category 'O' with 1. \n",
    "- Re-encoded the Multi-level features using dummy variables"
   ]
  },
  {
   "cell_type": "markdown",
   "metadata": {},
   "source": [
    "#### Step 1.2.2: Engineer Mixed-Type Features\n",
    "\n",
    "There are a handful of features that are marked as \"mixed\" in the feature summary that require special treatment in order to be included in the analysis. There are two in particular that deserve attention; the handling of the rest are up to your own choices:\n",
    "- \"PRAEGENDE_JUGENDJAHRE\" combines information on three dimensions: generation by decade, movement (mainstream vs. avantgarde), and nation (east vs. west). While there aren't enough levels to disentangle east from west, you should create two new variables to capture the other two dimensions: an interval-type variable for decade, and a binary variable for movement.\n",
    "- \"CAMEO_INTL_2015\" combines information on two axes: wealth and life stage. Break up the two-digit codes by their 'tens'-place and 'ones'-place digits into two new ordinal variables (which, for the purposes of this project, is equivalent to just treating them as their raw numeric values).\n",
    "- If you decide to keep or engineer new features around the other mixed-type features, make sure you note your steps in the Discussion section.\n",
    "\n",
    "Be sure to check `Data_Dictionary.md` for the details needed to finish these tasks."
   ]
  },
  {
   "cell_type": "code",
   "execution_count": 22,
   "metadata": {},
   "outputs": [],
   "source": [
    "# Investigate \"PRAEGENDE_JUGENDJAHRE\" and engineer two new variables.\n",
    "\n",
    "mainstream = [1, 3, 5, 8, 10, 12, 14]\n",
    "\n",
    "subset_below_threshold['PRAEGENDE_JUGENDJAHRE_MOVEMENT'] = subset_below_threshold['PRAEGENDE_JUGENDJAHRE'].apply(lambda x: 1 if x in mainstream else 0)\n",
    "\n",
    "decade_mapping ={1:1, 2:1, 3:2, 4:2, 5:3, 6:3, 7:3, 8:4, 9:4, 10:5, 11:5, 12:5, 13:5, 14:6, 15:6}\n",
    "\n",
    "subset_below_threshold['PRAEGENDE_JUGENDJAHRE_DECADE'] = subset_below_threshold['PRAEGENDE_JUGENDJAHRE']\n",
    "subset_below_threshold['PRAEGENDE_JUGENDJAHRE_DECADE'].replace(decade_mapping, inplace=True)"
   ]
  },
  {
   "cell_type": "code",
   "execution_count": 23,
   "metadata": {},
   "outputs": [],
   "source": [
    "# Investigate \"CAMEO_INTL_2015\" and engineer two new variables.\n",
    "\n",
    "subset_below_threshold['WEALTH'] = subset_below_threshold['CAMEO_INTL_2015']\n",
    "subset_below_threshold['LIFE_STAGE'] = subset_below_threshold['CAMEO_INTL_2015']\n",
    "\n",
    "subset_below_threshold['WEALTH'] = subset_below_threshold['WEALTH'].apply(lambda x: x if pd.isnull(x) else int(x[1]))\n",
    "subset_below_threshold['LIFE_STAGE'] = subset_below_threshold['LIFE_STAGE'].apply(lambda x: x if pd.isnull(x) else int(x[0]))"
   ]
  },
  {
   "cell_type": "markdown",
   "metadata": {},
   "source": [
    "#### Discussion 1.2.2: Engineer Mixed-Type Features\n",
    "\n",
    "\n",
    "I've kept both of the mixed features, but we've dealt with each of them differently.\n",
    "\n",
    "Firstly, with `PRAEGENDE_JUGENDJAHRE`, we create two new variables, one for the movement and the other for the decade.\n",
    "We create the movement as two binary variables, '1' refers to the mainstream, and '0' refers to avantgarde.\n",
    "\n",
    "Regarding the decade, we create it as an interval variable, we map each decade to a specific number.\n",
    "\n",
    "\n",
    "Secondly, with `CAMEO_INTL_2015`, we break up the two-digit codes to their 'tens'-place and 'ones'-place digits into two new ordinal variables, tens place for the wealth and ones place for the life stage."
   ]
  },
  {
   "cell_type": "markdown",
   "metadata": {},
   "source": [
    "#### Step 1.2.3: Complete Feature Selection\n",
    "\n",
    "In order to finish this step up, you need to make sure that your data frame now only has the columns that you want to keep. To summarize, the dataframe should consist of the following:\n",
    "- All numeric, interval, and ordinal type columns from the original dataset.\n",
    "- Binary categorical features (all numerically-encoded).\n",
    "- Engineered features from other multi-level categorical features and mixed features.\n",
    "\n",
    "Make sure that for any new columns that you have engineered, that you've excluded the original columns from the final dataset. Otherwise, their values will interfere with the analysis later on the project. For example, you should not keep \"PRAEGENDE_JUGENDJAHRE\", since its values won't be useful for the algorithm: only the values derived from it in the engineered features you created should be retained. As a reminder, your data should only be from **the subset with few or no missing values**."
   ]
  },
  {
   "cell_type": "code",
   "execution_count": 24,
   "metadata": {},
   "outputs": [],
   "source": [
    "# If there are other re-engineering tasks you need to perform, make sure you\n",
    "# take care of them here. (Dealing with missing data will come in step 2.1.)\n",
    "\n"
   ]
  },
  {
   "cell_type": "code",
   "execution_count": 25,
   "metadata": {},
   "outputs": [],
   "source": [
    "# Do whatever you need to in order to ensure that the dataframe only contains\n",
    "# the columns that should be passed to the algorithm functions.\n",
    "mixed_features = feat_info_cleaned[feat_info_cleaned['type'] == 'mixed']['attribute'].values\n",
    "subset_below_threshold.drop(mixed_features, axis=1, inplace=True)\n"
   ]
  },
  {
   "cell_type": "markdown",
   "metadata": {},
   "source": [
    "### Step 1.3: Create a Cleaning Function\n",
    "\n",
    "Even though you've finished cleaning up the general population demographics data, it's important to look ahead to the future and realize that you'll need to perform the same cleaning steps on the customer demographics data. In this substep, complete the function below to execute the main feature selection, encoding, and re-engineering steps you performed above. Then, when it comes to looking at the customer data in Step 3, you can just run this function on that DataFrame to get the trimmed dataset in a single step."
   ]
  },
  {
   "cell_type": "code",
   "execution_count": 26,
   "metadata": {},
   "outputs": [],
   "source": [
    "def clean_data(df):\n",
    "    \"\"\"\n",
    "    Perform feature trimming, re-encoding, and engineering for demographics\n",
    "    data\n",
    "    \n",
    "    INPUT: Demographics DataFrame\n",
    "    OUTPUT: Trimmed and cleaned demographics DataFrame\n",
    "    \"\"\"\n",
    "    \n",
    "    # Put in code here to execute all main cleaning steps:\n",
    "    # convert missing value codes into NaNs, ...\n",
    "    for attribute, miss_index in zip(feat_info['attribute'], feat_info['missing_or_unknown']):\n",
    "        missing_values = miss_index.strip('[]').split(',')\n",
    "        missing_values = [int(value) if (value!='X' and value!='XX' and value!='') else value for value in missing_values]\n",
    "        if missing_values != ['']:\n",
    "            df[attribute] = df[attribute].replace(missing_values, np.nan)\n",
    "    \n",
    "    # remove selected columns and rows, ...\n",
    "    columns_miss_20 = ['AGER_TYP', 'GEBURTSJAHR', 'TITEL_KZ', 'ALTER_HH', 'KK_KUNDENTYP', 'KBA05_BAUMAX']\n",
    "    df.drop(columns_miss_20, axis=1, inplace=True)\n",
    "    feat_info_cleaned = feat_info[~feat_info.attribute.isin(columns_miss_20)]\n",
    "    \n",
    "    row_nulls = df.isnull().sum(axis=1)\n",
    "    threshold = 20\n",
    "    subset_above_threshold = df[row_nulls > threshold]\n",
    "    subset_below_threshold = df[row_nulls < threshold]\n",
    "    \n",
    "    # select, re-encode, and engineer column values.\n",
    "    cat_features = feat_info_cleaned[feat_info_cleaned.type == 'categorical'].attribute\n",
    "    cat_level = subset_below_threshold[cat_features].nunique()\n",
    "    binary_cat_num = []\n",
    "    binary_cat_nonnum = []\n",
    "    multi_cat = []\n",
    "    for num_cat, attribute in zip(cat_level, cat_features):\n",
    "        if num_cat != 2:\n",
    "            multi_cat.append(attribute)\n",
    "        else:\n",
    "            date_type = subset_below_threshold[attribute].dtype\n",
    "            if np.issubdtype(date_type, np.number):\n",
    "                binary_cat_num.append(attribute)\n",
    "            else:\n",
    "                binary_cat_nonnum.append(attribute)\n",
    "                \n",
    "    drop_features = cat_level[cat_level > 20].index\n",
    "    subset_below_threshold.drop(drop_features, axis=1, inplace=True)\n",
    "\n",
    "    for feature in drop_features:\n",
    "        multi_cat.remove(feature)\n",
    "    \n",
    "        # re-encode binary categorical features\n",
    "    subset_below_threshold['OST_WEST_KZ'].replace({'W':0,'O':1}, inplace=True)\n",
    "    subset_below_threshold['OST_WEST_KZ'].astype('int', inplace=True)\n",
    "\n",
    "    # re-encode multi-level categorical features\n",
    "    subset_below_threshold = pd.get_dummies(data=subset_below_threshold, columns=multi_cat)\n",
    "    \n",
    "    # engineer mixed type features\n",
    "    mainstream = [1, 3, 5, 8, 10, 12, 14]\n",
    "\n",
    "    \n",
    "    subset_below_threshold['PRAEGENDE_JUGENDJAHRE_MOVEMENT'] = subset_below_threshold['PRAEGENDE_JUGENDJAHRE'].apply(lambda x: 1 if x in mainstream else 0)\n",
    "\n",
    "\n",
    "    decade_mapping ={1:1, 2:1, 3:2, 4:2, 5:3, 6:3, 7:3, 8:4, 9:4, 10:5, 11:5, 12:5, 13:5, 14:6, 15:6}\n",
    "\n",
    "    subset_below_threshold['PRAEGENDE_JUGENDJAHRE_DECADE'] = subset_below_threshold['PRAEGENDE_JUGENDJAHRE']\n",
    "    subset_below_threshold['PRAEGENDE_JUGENDJAHRE_DECADE'].replace(decade_mapping, inplace=True)\n",
    "    \n",
    "    \n",
    "    subset_below_threshold['WEALTH'] = subset_below_threshold['CAMEO_INTL_2015']\n",
    "    subset_below_threshold['LIFE_STAGE'] = subset_below_threshold['CAMEO_INTL_2015']\n",
    "\n",
    "    subset_below_threshold['WEALTH'] = subset_below_threshold['WEALTH'].apply(lambda x: x if pd.isnull(x) else int(x[1]))\n",
    "    subset_below_threshold['LIFE_STAGE'] = subset_below_threshold['LIFE_STAGE'].apply(lambda x: x if pd.isnull(x) else int(x[0]))\n",
    "    \n",
    "    # drop mixed type features\n",
    "    mixed_features = feat_info_cleaned[feat_info_cleaned['type'] == 'mixed']['attribute'].values\n",
    "    subset_below_threshold.drop(mixed_features, axis=1, inplace=True)\n",
    "    \n",
    "    # fill NaN values with most frequent value (mode) of each column\n",
    "    impute_nonvalues = Imputer(strategy='most_frequent')\n",
    "    matrix_values = impute_nonvalues.fit_transform(subset_below_threshold)\n",
    "    subset_below_threshold = pd.DataFrame(matrix_values, columns=subset_below_threshold.columns)\n",
    "    \n",
    "    # Return the cleaned dataframe.\n",
    "    return subset_below_threshold\n",
    "    "
   ]
  },
  {
   "cell_type": "markdown",
   "metadata": {},
   "source": [
    "## Step 2: Feature Transformation\n",
    "\n",
    "### Step 2.1: Apply Feature Scaling\n",
    "\n",
    "Before we apply dimensionality reduction techniques to the data, we need to perform feature scaling so that the principal component vectors are not influenced by the natural differences in scale for features. Starting from this part of the project, you'll want to keep an eye on the [API reference page for sklearn](http://scikit-learn.org/stable/modules/classes.html) to help you navigate to all of the classes and functions that you'll need. In this substep, you'll need to check the following:\n",
    "\n",
    "- sklearn requires that data not have missing values in order for its estimators to work properly. So, before applying the scaler to your data, make sure that you've cleaned the DataFrame of the remaining missing values. This can be as simple as just removing all data points with missing data, or applying an [Imputer](https://scikit-learn.org/0.16/modules/generated/sklearn.preprocessing.Imputer.html) to replace all missing values. You might also try a more complicated procedure where you temporarily remove missing values in order to compute the scaling parameters before re-introducing those missing values and applying imputation. Think about how much missing data you have and what possible effects each approach might have on your analysis, and justify your decision in the discussion section below.\n",
    "- For the actual scaling function, a [StandardScaler](http://scikit-learn.org/stable/modules/generated/sklearn.preprocessing.StandardScaler.html) instance is suggested, scaling each feature to mean 0 and standard deviation 1.\n",
    "- For these classes, you can make use of the `.fit_transform()` method to both fit a procedure to the data as well as apply the transformation to the data at the same time. Don't forget to keep the fit sklearn objects handy, since you'll be applying them to the customer demographics data towards the end of the project."
   ]
  },
  {
   "cell_type": "code",
   "execution_count": 27,
   "metadata": {},
   "outputs": [
    {
     "name": "stdout",
     "output_type": "stream",
     "text": [
      "Number of observations in the dataset: 797077\n",
      "NaN values in the dataset: 717672\n",
      "NaN values in the dataset after filling NaNs: 0\n"
     ]
    }
   ],
   "source": [
    "# If you've not yet cleaned the dataset of all NaN values, then investigate and\n",
    "# do that now.\n",
    "print('Number of observations in the dataset:', subset_below_threshold.shape[0])\n",
    "print('NaN values in the dataset:', subset_below_threshold.isna().sum().sum())\n",
    "\n",
    "# Fill NaNs \n",
    "\n",
    "from sklearn.preprocessing import Imputer\n",
    "imputer = Imputer(strategy='most_frequent')\n",
    "matrix_values = imputer.fit_transform(subset_below_threshold)\n",
    "subset_below_threshold = pd.DataFrame(matrix_values, columns=subset_below_threshold.columns)\n",
    "\n",
    "print('NaN values in the dataset after filling NaNs:', subset_below_threshold.isna().sum().sum())"
   ]
  },
  {
   "cell_type": "code",
   "execution_count": 28,
   "metadata": {},
   "outputs": [],
   "source": [
    "# Apply feature scaling to the general population demographics data.\n",
    "\n",
    "from sklearn.preprocessing import StandardScaler\n",
    "\n",
    "scaler = StandardScaler()\n",
    "feat_scaled = scaler.fit_transform(subset_below_threshold)\n",
    "feat_scaled = pd.DataFrame(feat_scaled, columns=subset_below_threshold.columns)\n"
   ]
  },
  {
   "cell_type": "markdown",
   "metadata": {},
   "source": [
    "### Discussion 2.1: Apply Feature Scaling\n",
    "\n",
    "I've filled the NaN values with the mode of each feature using the Imputer instance. Surprisingly, there were so many NaN values in the dataset relative to the number of observations.\n",
    "\n",
    "Moreover, each feature has been scaled to mean 0 and standard deviation 1, using StandardScaler instance."
   ]
  },
  {
   "cell_type": "markdown",
   "metadata": {},
   "source": [
    "### Step 2.2: Perform Dimensionality Reduction\n",
    "\n",
    "On your scaled data, you are now ready to apply dimensionality reduction techniques.\n",
    "\n",
    "- Use sklearn's [PCA](http://scikit-learn.org/stable/modules/generated/sklearn.decomposition.PCA.html) class to apply principal component analysis on the data, thus finding the vectors of maximal variance in the data. To start, you should not set any parameters (so all components are computed) or set a number of components that is at least half the number of features (so there's enough features to see the general trend in variability).\n",
    "- Check out the ratio of variance explained by each principal component as well as the cumulative variance explained. Try plotting the cumulative or sequential values using matplotlib's [`plot()`](https://matplotlib.org/api/_as_gen/matplotlib.pyplot.plot.html) function. Based on what you find, select a value for the number of transformed features you'll retain for the clustering part of the project.\n",
    "- Once you've made a choice for the number of components to keep, make sure you re-fit a PCA instance to perform the decided-on transformation."
   ]
  },
  {
   "cell_type": "code",
   "execution_count": 29,
   "metadata": {},
   "outputs": [],
   "source": [
    "# Apply PCA to the data.\n",
    "from sklearn.decomposition import PCA\n",
    "\n",
    "n_components = feat_scaled.shape[1] // 2\n",
    "pca = PCA(n_components=n_components)\n",
    "pca = pca.fit(feat_scaled)\n"
   ]
  },
  {
   "cell_type": "code",
   "execution_count": 30,
   "metadata": {},
   "outputs": [
    {
     "data": {
      "image/png": "[encoded data removed]",
      "text/plain": [
       "<matplotlib.figure.Figure at 0x7f5b15d66da0>"
      ]
     },
     "metadata": {
      "needs_background": "light"
     },
     "output_type": "display_data"
    }
   ],
   "source": [
    "# Investigate the variance accounted for by each principal component.\n",
    "\n",
    "components = np.arange(n_components)\n",
    "exp_variance = pca.explained_variance_ratio_\n",
    "plt.figure(figsize=(15, 6))\n",
    "plt.bar(components, exp_variance)\n",
    "plt.xlabel(\"Principal Component\")\n",
    "plt.ylabel(\"Variance Explained (%)\")\n",
    "plt.title(\"Explained Variance Per Principal Component\");"
   ]
  },
  {
   "cell_type": "code",
   "execution_count": 31,
   "metadata": {},
   "outputs": [
    {
     "name": "stdout",
     "output_type": "stream",
     "text": [
      "Cumulative Explained Variance: 0.882182619334\n"
     ]
    },
    {
     "data": {
      "image/png": "[encoded data removed]",
      "text/plain": [
       "<matplotlib.figure.Figure at 0x7f5b13074c18>"
      ]
     },
     "metadata": {
      "needs_background": "light"
     },
     "output_type": "display_data"
    }
   ],
   "source": [
    "# Re-apply PCA to the data while selecting for number of components to retain.\n",
    "cum_vals = np.cumsum(exp_variance)\n",
    "plt.plot(components, cum_vals)\n",
    "plt.xlabel(\"Principal Component\")\n",
    "plt.ylabel(\"Cumulative Explained Variance\")\n",
    "plt.title(\"Cumulative Explained Variance Per Principal Component\");\n",
    "\n",
    "print('Cumulative Explained Variance:', pca.explained_variance_ratio_.sum())\n",
    "\n",
    "\n",
    "data_pca = pca.transform(feat_scaled)"
   ]
  },
  {
   "cell_type": "markdown",
   "metadata": {},
   "source": [
    "### Discussion 2.2: Perform Dimensionality Reduction\n",
    "\n",
    "(Double-click this cell and replace this text with your own text, reporting your findings and decisions regarding dimensionality reduction. How many principal components / transformed features are you retaining for the next step of the analysis?)"
   ]
  },
  {
   "cell_type": "markdown",
   "metadata": {},
   "source": [
    "### Step 2.3: Interpret Principal Components\n",
    "\n",
    "Now that we have our transformed principal components, it's a nice idea to check out the weight of each variable on the first few components to see if they can be interpreted in some fashion.\n",
    "\n",
    "As a reminder, each principal component is a unit vector that points in the direction of highest variance (after accounting for the variance captured by earlier principal components). The further a weight is from zero, the more the principal component is in the direction of the corresponding feature. If two features have large weights of the same sign (both positive or both negative), then increases in one tend expect to be associated with increases in the other. To contrast, features with different signs can be expected to show a negative correlation: increases in one variable should result in a decrease in the other.\n",
    "\n",
    "- To investigate the features, you should map each weight to their corresponding feature name, then sort the features according to weight. The most interesting features for each principal component, then, will be those at the beginning and end of the sorted list. Use the data dictionary document to help you understand these most prominent features, their relationships, and what a positive or negative value on the principal component might indicate.\n",
    "- You should investigate and interpret feature associations from the first three principal components in this substep. To help facilitate this, you should write a function that you can call at any time to print the sorted list of feature weights, for the *i*-th principal component. This might come in handy in the next step of the project, when you interpret the tendencies of the discovered clusters."
   ]
  },
  {
   "cell_type": "code",
   "execution_count": 32,
   "metadata": {},
   "outputs": [
    {
     "data": {
      "image/png": "[encoded data removed]",
      "text/plain": [
       "<matplotlib.figure.Figure at 0x7f5b154a1400>"
      ]
     },
     "metadata": {
      "needs_background": "light"
     },
     "output_type": "display_data"
    },
    {
     "data": {
      "text/plain": [
       "LP_STATUS_GROB_1.0    0.200784\n",
       "HH_EINKOMMEN_SCORE    0.186780\n",
       "PLZ8_ANTG3            0.182370\n",
       "LIFE_STAGE            0.180143\n",
       "PLZ8_ANTG4            0.176140\n",
       "KBA05_ANTG1          -0.182421\n",
       "KBA05_GBZ            -0.182826\n",
       "PLZ8_ANTG1           -0.183092\n",
       "MOBI_REGIO           -0.189985\n",
       "FINANZ_MINIMALIST    -0.204177\n",
       "Name: 0, dtype: float64"
      ]
     },
     "execution_count": 32,
     "metadata": {},
     "output_type": "execute_result"
    }
   ],
   "source": [
    "# Map weights for the first principal component to corresponding feature names\n",
    "# and then print the linked values, sorted by weight.\n",
    "# HINT: Try defining a function here or in a new cell that you can reuse in the\n",
    "# other cells.\n",
    "\n",
    "def map_component_weights(df, pca, component):\n",
    "    \"\"\"\n",
    "    input:\n",
    "        df - Dataframe\n",
    "        pca - Fitted PCA instance\n",
    "        component - index of the component\n",
    "        \n",
    "    Return:\n",
    "        Datafrme: Mapped features to their weights in the component\n",
    "    \"\"\"\n",
    "    component_weights = pd.DataFrame(pca.components_, columns=list(df.columns)).iloc[component]\n",
    "    component_weights.sort_values(ascending=False, inplace=True)\n",
    "    \n",
    "    return component_weights\n",
    "\n",
    "def plot_component_weights(df, pca, component, feature_plot):\n",
    "    component_weights = map_component_weights(df, pca, component)\n",
    "    component_weights = pd.concat([component_weights.head(feature_plot), component_weights.tail(feature_plot)])\n",
    "    \n",
    "    component_weights.plot(kind='bar')\n",
    "    plt.title('Component {}'.format(component+1))\n",
    "    plt.ylabel('Weight')\n",
    "    ax = plt.gca()\n",
    "    ax.grid(linewidth='0.5', alpha=0.5)\n",
    "    ax.set_axisbelow(True)\n",
    "    plt.show()\n",
    "    \n",
    "    return component_weights\n",
    "\n",
    "component_weights = plot_component_weights(feat_scaled, pca, 0, 5)\n",
    "component_weights"
   ]
  },
  {
   "cell_type": "code",
   "execution_count": 33,
   "metadata": {},
   "outputs": [
    {
     "data": {
      "image/png": "[encoded data removed]",
      "text/plain": [
       "<matplotlib.figure.Figure at 0x7f5b158c9128>"
      ]
     },
     "metadata": {
      "needs_background": "light"
     },
     "output_type": "display_data"
    },
    {
     "data": {
      "text/plain": [
       "ALTERSKATEGORIE_GROB            0.226830\n",
       "FINANZ_VORSORGER                0.212738\n",
       "ZABEOTYP_3                      0.200325\n",
       "SEMIO_ERL                       0.178395\n",
       "SEMIO_LUST                      0.158849\n",
       "SEMIO_TRADV                    -0.203559\n",
       "SEMIO_REL                      -0.210120\n",
       "FINANZ_UNAUFFAELLIGER          -0.211842\n",
       "FINANZ_SPARER                  -0.217945\n",
       "PRAEGENDE_JUGENDJAHRE_DECADE   -0.224875\n",
       "Name: 1, dtype: float64"
      ]
     },
     "execution_count": 33,
     "metadata": {},
     "output_type": "execute_result"
    }
   ],
   "source": [
    "# Map weights for the second principal component to corresponding feature names\n",
    "# and then print the linked values, sorted by weight.\n",
    "\n",
    "component_weights = plot_component_weights(feat_scaled, pca, 1, 5)\n",
    "component_weights"
   ]
  },
  {
   "cell_type": "code",
   "execution_count": 34,
   "metadata": {},
   "outputs": [
    {
     "data": {
      "image/png": "[encoded data removed]",
      "text/plain": [
       "<matplotlib.figure.Figure at 0x7f5b151d2630>"
      ]
     },
     "metadata": {
      "needs_background": "light"
     },
     "output_type": "display_data"
    },
    {
     "data": {
      "text/plain": [
       "SEMIO_VERT     0.321033\n",
       "SEMIO_FAM      0.262844\n",
       "SEMIO_SOZ      0.258225\n",
       "SEMIO_KULT     0.253497\n",
       "FINANZTYP_5    0.134458\n",
       "SEMIO_ERL     -0.208166\n",
       "SEMIO_KRIT    -0.268471\n",
       "SEMIO_DOM     -0.288055\n",
       "SEMIO_KAEM    -0.318391\n",
       "ANREDE_KZ     -0.347962\n",
       "Name: 2, dtype: float64"
      ]
     },
     "execution_count": 34,
     "metadata": {},
     "output_type": "execute_result"
    }
   ],
   "source": [
    "# Map weights for the third principal component to corresponding feature names\n",
    "# and then print the linked values, sorted by weight.\n",
    "\n",
    "component_weights = plot_component_weights(feat_scaled, pca, 2, 5)\n",
    "component_weights"
   ]
  },
  {
   "cell_type": "markdown",
   "metadata": {},
   "source": [
    "### Discussion 2.3: Interpret Principal Components\n",
    "\n",
    "### Discussion 2.3: Interpret Principal Components\n",
    "\n",
    "1. First Principal Component\n",
    "\n",
    "  - Positive weights\n",
    "    - LP_STATUS_GROB_1.0 (Social status: low-income earners)\n",
    "    - HH_EINKOMMEN_SCORE (Estimated household net income)\n",
    "    - PLZ8_ANTG3 (Number of 6-10 family houses in the PLZ8 region)\n",
    "  - Negative weights\n",
    "    - FINANZ_MINIMALIST (Financial typology: low financial interest)\n",
    "    - MOBI_REGIO (Movement patterns)\n",
    "    - PLZ8_ANTG1 (Number of 1-2 family houses in the PLZ8 region)\n",
    "\n",
    "\n",
    "2. Second Principal Component\n",
    "\n",
    "  - Positive weights\n",
    "    - ALTERSKATEGORIE_GROB (Estimated age based on given name analysis)\n",
    "    - FINANZ_VORSORGER (Financial typology: be prepared)\n",
    "    - ZABEOTYP_3 (Energy consumption typology: fair supplied)\n",
    "  - Negative weights\n",
    "    - PRAEGENDE_JUGENDJAHRE_DECADE (Generation)\n",
    "    - FINANZ_SPARER (Financial typology: money-saver)\n",
    "    - FINANZ_UNAUFFAELLIGER (Financial typology: inconspicuous)\n",
    "\n",
    "3. Third Principal Component\n",
    "\n",
    "  - Positive weights\n",
    "    - SEMIO_VERT (Personality typology: dreamful)\n",
    "    - SEMIO_FAM (Personality typology: family-minded)\n",
    "    - SEMIO_SOZ (Personality typology: socially-minded)\n",
    "  - Negative weights\n",
    "    - ANREDE_KZ (Gender)\n",
    "    - SEMIO_KAEM (Personality typology: combative attitude)\n",
    "    - SEMIO_DOM (Personality typology: dominant-minded)\n",
    "    \n",
    "    \n",
    "We can observe that the first component is about income and number of family houses. Also, we suggest that the second component was about financial typologies and age. And for the third component, it tells more about personality typologies."
   ]
  },
  {
   "cell_type": "markdown",
   "metadata": {},
   "source": [
    "## Step 3: Clustering\n",
    "\n",
    "### Step 3.1: Apply Clustering to General Population\n",
    "\n",
    "You've assessed and cleaned the demographics data, then scaled and transformed them. Now, it's time to see how the data clusters in the principal components space. In this substep, you will apply k-means clustering to the dataset and use the average within-cluster distances from each point to their assigned cluster's centroid to decide on a number of clusters to keep.\n",
    "\n",
    "- Use sklearn's [KMeans](http://scikit-learn.org/stable/modules/generated/sklearn.cluster.KMeans.html#sklearn.cluster.KMeans) class to perform k-means clustering on the PCA-transformed data.\n",
    "- Then, compute the average difference from each point to its assigned cluster's center. **Hint**: The KMeans object's `.score()` method might be useful here, but note that in sklearn, scores tend to be defined so that larger is better. Try applying it to a small, toy dataset, or use an internet search to help your understanding.\n",
    "- Perform the above two steps for a number of different cluster counts. You can then see how the average distance decreases with an increasing number of clusters. However, each additional cluster provides a smaller net benefit. Use this fact to select a final number of clusters in which to group the data. **Warning**: because of the large size of the dataset, it can take a long time for the algorithm to resolve. The more clusters to fit, the longer the algorithm will take. You should test for cluster counts through at least 10 clusters to get the full picture, but you shouldn't need to test for a number of clusters above about 30.\n",
    "- Once you've selected a final number of clusters to use, re-fit a KMeans instance to perform the clustering operation. Make sure that you also obtain the cluster assignments for the general demographics data, since you'll be using them in the final Step 3.3."
   ]
  },
  {
   "cell_type": "code",
   "execution_count": 35,
   "metadata": {},
   "outputs": [],
   "source": [
    "from sklearn.cluster import KMeans\n",
    "\n",
    "scores = []\n",
    "centers = list(range(2, 19, 2))\n",
    "\n",
    "# Over a number of different cluster counts...\n",
    "for center in centers:\n",
    "\n",
    "    # run k-means clustering on the data and...\n",
    "    kmeans = KMeans(n_clusters=center)\n",
    "    kmeans.fit(data_pca)\n",
    "    \n",
    "    # compute the average within-cluster distances.\n",
    "    score = np.abs(kmeans.score(data_pca))\n",
    "    scores.append(score)\n",
    "    "
   ]
  },
  {
   "cell_type": "code",
   "execution_count": 36,
   "metadata": {},
   "outputs": [
    {
     "data": {
      "image/png": "[encoded data removed]",
      "text/plain": [
       "<matplotlib.figure.Figure at 0x7f5b150cdb00>"
      ]
     },
     "metadata": {
      "needs_background": "light"
     },
     "output_type": "display_data"
    }
   ],
   "source": [
    "# Investigate the change in within-cluster distance across number of clusters.\n",
    "# HINT: Use matplotlib's plot function to visualize this relationship.\n",
    "plt.plot(centers, scores, linestyle='--', marker='o', color='b');\n",
    "plt.xlabel('Number of clusters (K)')\n",
    "plt.ylabel('SSE')\n",
    "plt.title(\"Number of clusters (K) vs. SSE\");\n"
   ]
  },
  {
   "cell_type": "code",
   "execution_count": 38,
   "metadata": {},
   "outputs": [],
   "source": [
    "# Re-fit the k-means model with the selected number of clusters and obtain\n",
    "# cluster predictions for the general population demographics data.\n",
    "\n",
    "kmeans = KMeans(n_clusters=12)\n",
    "kmeans = kmeans.fit(data_pca)\n",
    "general_preds = kmeans.predict(data_pca)"
   ]
  },
  {
   "cell_type": "markdown",
   "metadata": {},
   "source": [
    "### Discussion 3.1: Apply Clustering to General Population\n",
    "\n",
    "We can't know exactly where the elbow in the plot, but we can actually suggest that could 12. So, we've decided to segment the population by this number of clusters.  \n",
    "\n",
    "KMeans models have been fitted through a range of different values for the number of clusters.\n",
    "\n",
    "In the plot above, shift in the rate at which SSE decreases in the range of 6 to 12 clusters. As per the instructions above, I am choosing 12 so that it is above 10. "
   ]
  },
  {
   "cell_type": "markdown",
   "metadata": {},
   "source": [
    "### Step 3.2: Apply All Steps to the Customer Data\n",
    "\n",
    "Now that you have clusters and cluster centers for the general population, it's time to see how the customer data maps on to those clusters. Take care to not confuse this for re-fitting all of the models to the customer data. Instead, you're going to use the fits from the general population to clean, transform, and cluster the customer data. In the last step of the project, you will interpret how the general population fits apply to the customer data.\n",
    "\n",
    "- Don't forget when loading in the customers data, that it is semicolon (`;`) delimited.\n",
    "- Apply the same feature wrangling, selection, and engineering steps to the customer demographics using the `clean_data()` function you created earlier. (You can assume that the customer demographics data has similar meaning behind missing data patterns as the general demographics data.)\n",
    "- Use the sklearn objects from the general demographics data, and apply their transformations to the customers data. That is, you should not be using a `.fit()` or `.fit_transform()` method to re-fit the old objects, nor should you be creating new sklearn objects! Carry the data through the feature scaling, PCA, and clustering steps, obtaining cluster assignments for all of the data in the customer demographics data."
   ]
  },
  {
   "cell_type": "code",
   "execution_count": 39,
   "metadata": {},
   "outputs": [],
   "source": [
    "# Load in the customer demographics data.\n",
    "customers = pd.read_csv('Udacity_CUSTOMERS_Subset.csv', delimiter=';');"
   ]
  },
  {
   "cell_type": "code",
   "execution_count": 40,
   "metadata": {},
   "outputs": [
    {
     "name": "stderr",
     "output_type": "stream",
     "text": [
      "/opt/conda/lib/python3.6/site-packages/pandas/core/frame.py:3697: SettingWithCopyWarning: \n",
      "A value is trying to be set on a copy of a slice from a DataFrame\n",
      "\n",
      "See the caveats in the documentation: http://pandas.pydata.org/pandas-docs/stable/indexing.html#indexing-view-versus-copy\n",
      "  errors=errors)\n",
      "/opt/conda/lib/python3.6/site-packages/pandas/core/generic.py:5890: SettingWithCopyWarning: \n",
      "A value is trying to be set on a copy of a slice from a DataFrame\n",
      "\n",
      "See the caveats in the documentation: http://pandas.pydata.org/pandas-docs/stable/indexing.html#indexing-view-versus-copy\n",
      "  self._update_inplace(new_data)\n"
     ]
    }
   ],
   "source": [
    "# Apply preprocessing, feature transformation, and clustering from the general\n",
    "# demographics onto the customer data, obtaining cluster predictions for the\n",
    "# customer demographics data.\n",
    "customers_cleaned = clean_data(customers)\n",
    "customers_cleaned['GEBAEUDETYP_5.0'] = 0\n",
    "\n",
    "customers_scaled = scaler.transform(customers_cleaned)\n",
    "customers_scaled = pd.DataFrame(customers_scaled, columns=customers_cleaned.columns)\n",
    "customers_pca = pca.transform(customers_scaled)\n",
    "\n",
    "customers_preds = kmeans.predict(customers_pca)"
   ]
  },
  {
   "cell_type": "markdown",
   "metadata": {},
   "source": [
    "### Step 3.3: Compare Customer Data to Demographics Data\n",
    "\n",
    "At this point, you have clustered data based on demographics of the general population of Germany, and seen how the customer data for a mail-order sales company maps onto those demographic clusters. In this final substep, you will compare the two cluster distributions to see where the strongest customer base for the company is.\n",
    "\n",
    "Consider the proportion of persons in each cluster for the general population, and the proportions for the customers. If we think the company's customer base to be universal, then the cluster assignment proportions should be fairly similar between the two. If there are only particular segments of the population that are interested in the company's products, then we should see a mismatch from one to the other. If there is a higher proportion of persons in a cluster for the customer data compared to the general population (e.g. 5% of persons are assigned to a cluster for the general population, but 15% of the customer data is closest to that cluster's centroid) then that suggests the people in that cluster to be a target audience for the company. On the other hand, the proportion of the data in a cluster being larger in the general population than the customer data (e.g. only 2% of customers closest to a population centroid that captures 6% of the data) suggests that group of persons to be outside of the target demographics.\n",
    "\n",
    "Take a look at the following points in this step:\n",
    "\n",
    "- Compute the proportion of data points in each cluster for the general population and the customer data. Visualizations will be useful here: both for the individual dataset proportions, but also to visualize the ratios in cluster representation between groups. Seaborn's [`countplot()`](https://seaborn.pydata.org/generated/seaborn.countplot.html) or [`barplot()`](https://seaborn.pydata.org/generated/seaborn.barplot.html) function could be handy.\n",
    "  - Recall the analysis you performed in step 1.1.3 of the project, where you separated out certain data points from the dataset if they had more than a specified threshold of missing values. If you found that this group was qualitatively different from the main bulk of the data, you should treat this as an additional data cluster in this analysis. Make sure that you account for the number of data points in this subset, for both the general population and customer datasets, when making your computations!\n",
    "- Which cluster or clusters are overrepresented in the customer dataset compared to the general population? Select at least one such cluster and infer what kind of people might be represented by that cluster. Use the principal component interpretations from step 2.3 or look at additional components to help you make this inference. Alternatively, you can use the `.inverse_transform()` method of the PCA and StandardScaler objects to transform centroids back to the original data space and interpret the retrieved values directly.\n",
    "- Perform a similar investigation for the underrepresented clusters. Which cluster or clusters are underrepresented in the customer dataset compared to the general population, and what kinds of people are typified by these clusters?"
   ]
  },
  {
   "cell_type": "code",
   "execution_count": 41,
   "metadata": {},
   "outputs": [
    {
     "data": {
      "image/png": "[encoded data removed]",
      "text/plain": [
       "<matplotlib.figure.Figure at 0x7f5b14dffcf8>"
      ]
     },
     "metadata": {
      "needs_background": "light"
     },
     "output_type": "display_data"
    }
   ],
   "source": [
    "# Compare the proportion of data in each cluster for the customer data to the\n",
    "# proportion of data in each cluster for the general population.\n",
    "fig, (ax1, ax2) = plt.subplots(1, 2, figsize=(16,6))\n",
    "\n",
    "sns.countplot(general_preds, ax=ax1)\n",
    "ax1.set_title('General Clusters')\n",
    "sns.countplot(customers_preds, ax=ax2)\n",
    "ax2.set_title('Customer Clusters');\n"
   ]
  },
  {
   "cell_type": "code",
   "execution_count": 42,
   "metadata": {},
   "outputs": [
    {
     "data": {
      "text/plain": [
       "ALTERSKATEGORIE_GROB              3.009501e+00\n",
       "ANREDE_KZ                         1.422301e+00\n",
       "FINANZ_MINIMALIST                 3.829275e+00\n",
       "FINANZ_SPARER                     2.253033e+00\n",
       "FINANZ_VORSORGER                  3.649712e+00\n",
       "FINANZ_ANLEGER                    2.476930e+00\n",
       "FINANZ_UNAUFFAELLIGER             2.406144e+00\n",
       "FINANZ_HAUSBAUER                  2.560164e+00\n",
       "GREEN_AVANTGARDE                  4.430566e-01\n",
       "HEALTH_TYP                        2.227182e+00\n",
       "RETOURTYP_BK_S                    3.521800e+00\n",
       "SEMIO_SOZ                         4.306746e+00\n",
       "SEMIO_FAM                         4.124258e+00\n",
       "SEMIO_REL                         3.733284e+00\n",
       "SEMIO_MAT                         3.867074e+00\n",
       "SEMIO_VERT                        4.775395e+00\n",
       "SEMIO_LUST                        4.801817e+00\n",
       "SEMIO_ERL                         4.631192e+00\n",
       "SEMIO_KULT                        4.163243e+00\n",
       "SEMIO_RAT                         3.604136e+00\n",
       "SEMIO_KRIT                        4.226112e+00\n",
       "SEMIO_DOM                         4.400283e+00\n",
       "SEMIO_KAEM                        3.908493e+00\n",
       "SEMIO_PFLICHT                     3.809227e+00\n",
       "SEMIO_TRADV                       3.529500e+00\n",
       "SOHO_KZ                           1.703200e-02\n",
       "VERS_TYP                          1.532562e+00\n",
       "ANZ_PERSONEN                      2.388686e+00\n",
       "ANZ_TITEL                         9.900153e-02\n",
       "HH_EINKOMMEN_SCORE                3.337431e+00\n",
       "                                      ...     \n",
       "SHOPPER_TYP_0.0                   1.874254e-01\n",
       "SHOPPER_TYP_1.0                   3.106370e-01\n",
       "SHOPPER_TYP_2.0                   2.196816e-01\n",
       "SHOPPER_TYP_3.0                   2.461809e-01\n",
       "ZABEOTYP_1                        3.210073e-01\n",
       "ZABEOTYP_2                        1.055420e-01\n",
       "ZABEOTYP_3                        2.986199e-01\n",
       "ZABEOTYP_4                        1.934100e-01\n",
       "ZABEOTYP_5                        1.723485e-02\n",
       "ZABEOTYP_6                        6.418588e-02\n",
       "GEBAEUDETYP_1.0                   8.979861e-02\n",
       "GEBAEUDETYP_2.0                  -8.253114e-04\n",
       "GEBAEUDETYP_3.0                   8.517329e-01\n",
       "GEBAEUDETYP_4.0                   1.064468e-04\n",
       "GEBAEUDETYP_6.0                   4.239329e-07\n",
       "GEBAEUDETYP_8.0                   1.603007e-03\n",
       "CAMEO_DEUG_2015_1                 5.758392e-02\n",
       "CAMEO_DEUG_2015_2                 1.055637e-01\n",
       "CAMEO_DEUG_2015_3                 1.403642e-01\n",
       "CAMEO_DEUG_2015_4                 1.334557e-01\n",
       "CAMEO_DEUG_2015_5                 1.578725e-01\n",
       "CAMEO_DEUG_2015_6                 1.065563e-01\n",
       "CAMEO_DEUG_2015_7                 1.207463e-01\n",
       "CAMEO_DEUG_2015_8                 7.806882e-02\n",
       "CAMEO_DEUG_2015_9                 9.928144e-02\n",
       "PRAEGENDE_JUGENDJAHRE_MOVEMENT    5.118229e-02\n",
       "PRAEGENDE_JUGENDJAHRE_DECADE      5.311900e-01\n",
       "WEALTH                            4.103637e+00\n",
       "LIFE_STAGE                        3.152741e+00\n",
       "GEBAEUDETYP_5.0                   2.684503e+00\n",
       "Length: 148, dtype: float64"
      ]
     },
     "execution_count": 42,
     "metadata": {},
     "output_type": "execute_result"
    }
   ],
   "source": [
    "# What kinds of people are part of a cluster that is overrepresented in the\n",
    "# customer data compared to the general population?\n",
    "\n",
    "centroid_9 = scaler.inverse_transform(pca.inverse_transform(kmeans.cluster_centers_[9]))\n",
    "\n",
    "\n",
    "overrepresented_c = pd.Series(data = centroid_9, index=customers_cleaned.columns)\n",
    "overrepresented_c"
   ]
  },
  {
   "cell_type": "code",
   "execution_count": 43,
   "metadata": {},
   "outputs": [
    {
     "data": {
      "text/plain": [
       "ALTERSKATEGORIE_GROB              3.526326\n",
       "ANREDE_KZ                         1.972111\n",
       "FINANZ_MINIMALIST                 2.410650\n",
       "FINANZ_SPARER                     1.951495\n",
       "FINANZ_VORSORGER                  4.264510\n",
       "FINANZ_ANLEGER                    2.201597\n",
       "FINANZ_UNAUFFAELLIGER             1.710267\n",
       "FINANZ_HAUSBAUER                  4.173301\n",
       "GREEN_AVANTGARDE                 -0.004555\n",
       "HEALTH_TYP                        2.066361\n",
       "RETOURTYP_BK_S                    4.206628\n",
       "SEMIO_SOZ                         2.958470\n",
       "SEMIO_FAM                         2.234211\n",
       "SEMIO_REL                         2.072222\n",
       "SEMIO_MAT                         2.642575\n",
       "SEMIO_VERT                        2.657916\n",
       "SEMIO_LUST                        5.168923\n",
       "SEMIO_ERL                         6.500757\n",
       "SEMIO_KULT                        1.901824\n",
       "SEMIO_RAT                         3.433956\n",
       "SEMIO_KRIT                        5.955953\n",
       "SEMIO_DOM                         5.899618\n",
       "SEMIO_KAEM                        6.151060\n",
       "SEMIO_PFLICHT                     2.953567\n",
       "SEMIO_TRADV                       2.365974\n",
       "SOHO_KZ                           0.009397\n",
       "VERS_TYP                          1.593789\n",
       "ANZ_PERSONEN                      1.377558\n",
       "ANZ_TITEL                        -0.000790\n",
       "HH_EINKOMMEN_SCORE                5.524856\n",
       "                                    ...   \n",
       "SHOPPER_TYP_0.0                   0.042610\n",
       "SHOPPER_TYP_1.0                   0.227984\n",
       "SHOPPER_TYP_2.0                   0.285204\n",
       "SHOPPER_TYP_3.0                   0.408953\n",
       "ZABEOTYP_1                       -0.036654\n",
       "ZABEOTYP_2                       -0.020058\n",
       "ZABEOTYP_3                        0.833342\n",
       "ZABEOTYP_4                        0.124509\n",
       "ZABEOTYP_5                        0.015730\n",
       "ZABEOTYP_6                        0.083131\n",
       "GEBAEUDETYP_1.0                   0.462646\n",
       "GEBAEUDETYP_2.0                   0.000742\n",
       "GEBAEUDETYP_3.0                   0.296522\n",
       "GEBAEUDETYP_4.0                   0.000289\n",
       "GEBAEUDETYP_6.0                   0.000003\n",
       "GEBAEUDETYP_8.0                   0.000083\n",
       "CAMEO_DEUG_2015_1                 0.239715\n",
       "CAMEO_DEUG_2015_2                 0.014755\n",
       "CAMEO_DEUG_2015_3                 0.015500\n",
       "CAMEO_DEUG_2015_4                 0.031696\n",
       "CAMEO_DEUG_2015_5                 0.028177\n",
       "CAMEO_DEUG_2015_6                 0.043661\n",
       "CAMEO_DEUG_2015_7                 0.155083\n",
       "CAMEO_DEUG_2015_8                 0.132214\n",
       "CAMEO_DEUG_2015_9                 0.331002\n",
       "PRAEGENDE_JUGENDJAHRE_MOVEMENT    0.243497\n",
       "PRAEGENDE_JUGENDJAHRE_DECADE      0.957270\n",
       "WEALTH                            3.453902\n",
       "LIFE_STAGE                        2.573558\n",
       "GEBAEUDETYP_5.0                   4.277085\n",
       "Length: 148, dtype: float64"
      ]
     },
     "execution_count": 43,
     "metadata": {},
     "output_type": "execute_result"
    }
   ],
   "source": [
    "# What kinds of people are part of a cluster that is underrepresented in the\n",
    "# customer data compared to the general population?\n",
    "\n",
    "centroid_8 = scaler.inverse_transform(pca.inverse_transform(kmeans.cluster_centers_[8]))\n",
    "underrepresented_c = pd.Series(data = centroid_8, index=customers_cleaned.columns)\n",
    "underrepresented_c"
   ]
  },
  {
   "cell_type": "markdown",
   "metadata": {},
   "source": [
    "### Discussion 3.3: Compare Customer Data to Demographics Data\n",
    "\n",
    "### Discussion 3.3: Compare Customer Data to Demographics Data\n",
    "\n",
    "From the analysis above, we can say that \n",
    "\n",
    "Cluster 9 is **overrepresented** in the customers data compared to general population data, \n",
    "we can describe some segments of the population that are **relatively popular** with the mail-order company:\n",
    "\n",
    "- People with age older than 60 years old is higher (ALTERSKATEGORIE_GROB = 3.608463)\n",
    "- Females (ANREDE_KZ = 1.535703)\n",
    "- People who are socially-minded (average affinity) (SEMIO_SOZ = 3.915283) \n",
    "\n",
    "\n",
    "Cluster 8 is **underrepresented** in the customers data compared to general population data, \n",
    "we can illustrate some segments of the population that are **relatively unpopular** with the company:\n",
    "\n",
    "- People with age of 30 - 45 years old is lower (ALTERSKATEGORIE_GROB = 1.805549)\n",
    "- Females (ANREDE_KZ = 1.981174)\n",
    "- People who are socially-minded (high affinity) (SEMIO_SOZ = 3.226965) "
   ]
  },
  {
   "cell_type": "markdown",
   "metadata": {},
   "source": [
    "> Congratulations on making it this far in the project! Before you finish, make sure to check through the entire notebook from top to bottom to make sure that your analysis follows a logical flow and all of your findings are documented in **Discussion** cells. Once you've checked over all of your work, you should export the notebook as an HTML document to submit for evaluation. You can do this from the menu, navigating to **File -> Download as -> HTML (.html)**. You will submit both that document and this notebook for your project submission."
   ]
  },
  {
   "cell_type": "code",
   "execution_count": null,
   "metadata": {},
   "outputs": [],
   "source": []
  }
 ],
 "metadata": {
  "kernelspec": {
   "display_name": "Python 3",
   "language": "python",
   "name": "python3"
  },
  "language_info": {
   "codemirror_mode": {
    "name": "ipython",
    "version": 3
   },
   "file_extension": ".py",
   "mimetype": "text/x-python",
   "name": "python",
   "nbconvert_exporter": "python",
   "pygments_lexer": "ipython3",
   "version": "3.6.3"
  }
 },
 "nbformat": 4,
 "nbformat_minor": 2
}
